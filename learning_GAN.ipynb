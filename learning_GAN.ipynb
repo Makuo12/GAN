{
  "nbformat": 4,
  "nbformat_minor": 0,
  "metadata": {
    "colab": {
      "name": "Untitled2.ipynb",
      "provenance": [],
      "authorship_tag": "ABX9TyNIomOo3ZG9njdwbrWBS3E5",
      "include_colab_link": true
    },
    "kernelspec": {
      "name": "python3",
      "display_name": "Python 3"
    },
    "language_info": {
      "name": "python"
    }
  },
  "cells": [
    {
      "cell_type": "markdown",
      "metadata": {
        "id": "view-in-github",
        "colab_type": "text"
      },
      "source": [
        "<a href=\"https://colab.research.google.com/github/Makuo12/GAN/blob/main/learning_GAN.ipynb\" target=\"_parent\"><img src=\"https://colab.research.google.com/assets/colab-badge.svg\" alt=\"Open In Colab\"/></a>"
      ]
    },
    {
      "cell_type": "code",
      "metadata": {
        "id": "2wUhD5E8Ou3x"
      },
      "source": [
        "import tensorflow as tf"
      ],
      "execution_count": 1,
      "outputs": []
    },
    {
      "cell_type": "code",
      "metadata": {
        "id": "soVbjI4-O6gd"
      },
      "source": [
        "from tensorflow.keras.layers import Input,Dense,LeakyReLU,Dropout,BatchNormalization\n",
        "from tensorflow.keras.models import Model\n",
        "from tensorflow.keras.optimizers import SGD,Adam\n",
        "\n",
        "import numpy as np\n",
        "import pandas as pd\n",
        "import matplotlib.pyplot as plt\n",
        "import sys,os"
      ],
      "execution_count": 3,
      "outputs": []
    },
    {
      "cell_type": "code",
      "metadata": {
        "id": "B8BCbheiPi1n"
      },
      "source": [
        "mnist = tf.keras.datasets.mnist"
      ],
      "execution_count": 4,
      "outputs": []
    },
    {
      "cell_type": "code",
      "metadata": {
        "colab": {
          "base_uri": "https://localhost:8080/"
        },
        "id": "6hiHaxaDPsSA",
        "outputId": "32091bd0-f11e-44eb-e98a-34127460b7ac"
      },
      "source": [
        "mnist"
      ],
      "execution_count": 5,
      "outputs": [
        {
          "output_type": "execute_result",
          "data": {
            "text/plain": [
              "<module 'tensorflow.keras.datasets.mnist' from '/usr/local/lib/python3.7/dist-packages/tensorflow/keras/datasets/mnist/__init__.py'>"
            ]
          },
          "metadata": {
            "tags": []
          },
          "execution_count": 5
        }
      ]
    },
    {
      "cell_type": "code",
      "metadata": {
        "colab": {
          "base_uri": "https://localhost:8080/"
        },
        "id": "zbBZu-U8Pvs5",
        "outputId": "c48d9c02-e016-400f-ba6f-24de0ce8d520"
      },
      "source": [
        "(X_train,y_train),(X_test,y_test) = mnist.load_data()"
      ],
      "execution_count": 6,
      "outputs": [
        {
          "output_type": "stream",
          "text": [
            "Downloading data from https://storage.googleapis.com/tensorflow/tf-keras-datasets/mnist.npz\n",
            "11493376/11490434 [==============================] - 0s 0us/step\n"
          ],
          "name": "stdout"
        }
      ]
    },
    {
      "cell_type": "code",
      "metadata": {
        "colab": {
          "base_uri": "https://localhost:8080/"
        },
        "id": "S_yqvM9VP5K6",
        "outputId": "e721c8ee-313b-4375-8eef-411404e86099"
      },
      "source": [
        "X_train.shape"
      ],
      "execution_count": 7,
      "outputs": [
        {
          "output_type": "execute_result",
          "data": {
            "text/plain": [
              "(60000, 28, 28)"
            ]
          },
          "metadata": {
            "tags": []
          },
          "execution_count": 7
        }
      ]
    },
    {
      "cell_type": "code",
      "metadata": {
        "id": "FZqQ-bz1P6ue"
      },
      "source": [
        "#map inputs to (-1,+1) for better training"
      ],
      "execution_count": 8,
      "outputs": []
    },
    {
      "cell_type": "code",
      "metadata": {
        "colab": {
          "base_uri": "https://localhost:8080/",
          "height": 282
        },
        "id": "1XUY2iYjQL52",
        "outputId": "f00e84a5-f958-4b70-e34b-af8dff83dbc1"
      },
      "source": [
        "plt.imshow(X_train[0])"
      ],
      "execution_count": 12,
      "outputs": [
        {
          "output_type": "execute_result",
          "data": {
            "text/plain": [
              "<matplotlib.image.AxesImage at 0x7f7448bbe210>"
            ]
          },
          "metadata": {
            "tags": []
          },
          "execution_count": 12
        },
        {
          "output_type": "display_data",
          "data": {
            "image/png": "[encoded data removed]",
            "text/plain": [
              "<Figure size 432x288 with 1 Axes>"
            ]
          },
          "metadata": {
            "tags": [],
            "needs_background": "light"
          }
        }
      ]
    },
    {
      "cell_type": "code",
      "metadata": {
        "id": "R1T0nxDhQFuN"
      },
      "source": [
        "X_train,X_test = X_train/255.0 *2-1,X_test/255.0*2-1"
      ],
      "execution_count": 13,
      "outputs": []
    },
    {
      "cell_type": "code",
      "metadata": {
        "id": "jZNQDqfyRT3V"
      },
      "source": [
        "N,H,W=X_train.shape"
      ],
      "execution_count": 14,
      "outputs": []
    },
    {
      "cell_type": "code",
      "metadata": {
        "id": "TDXsjXWCSI5S"
      },
      "source": [
        "D= H*W"
      ],
      "execution_count": 16,
      "outputs": []
    },
    {
      "cell_type": "code",
      "metadata": {
        "id": "qTjT1JR0RsTt"
      },
      "source": [
        "X_train = X_train.reshape(-1,D)\n",
        "X_test = X_test.reshape(-1,D)"
      ],
      "execution_count": 17,
      "outputs": []
    },
    {
      "cell_type": "code",
      "metadata": {
        "colab": {
          "base_uri": "https://localhost:8080/"
        },
        "id": "1k0EM2vhSFpU",
        "outputId": "c81fb67c-909f-494a-ffe1-be43f32b83c6"
      },
      "source": [
        "D"
      ],
      "execution_count": 18,
      "outputs": [
        {
          "output_type": "execute_result",
          "data": {
            "text/plain": [
              "784"
            ]
          },
          "metadata": {
            "tags": []
          },
          "execution_count": 18
        }
      ]
    },
    {
      "cell_type": "code",
      "metadata": {
        "id": "-RjecqzXSUuL"
      },
      "source": [
        "latent_dim = 100"
      ],
      "execution_count": 34,
      "outputs": []
    },
    {
      "cell_type": "code",
      "metadata": {
        "id": "WqXulVyNSe-E"
      },
      "source": [
        "def build_generator(latent_dim):\n",
        "  i = Input(shape=(latent_dim,))\n",
        "  x = Dense(256,activation=LeakyReLU(alpha=.2))(i)\n",
        "  x = BatchNormalization(momentum=0.8)(x)\n",
        "  x = Dense(512,activation=LeakyReLU(alpha=.2))(x)\n",
        "  x = BatchNormalization(momentum=.8)(x)\n",
        "  x = Dense(1024,activation=LeakyReLU(alpha=.2))(x)\n",
        "  x = BatchNormalization(momentum=.8)(x)\n",
        "  x = Dense(D,activation=\"tanh\")(x)\n",
        "\n",
        "  model = Model(i,x)\n",
        "  return model"
      ],
      "execution_count": 67,
      "outputs": []
    },
    {
      "cell_type": "code",
      "metadata": {
        "id": "oYEZWLxAUkCB"
      },
      "source": [
        "def build_discriminator(img_size):\n",
        "  i = Input(shape=(img_size,))\n",
        "  x = Dense(512,activation=LeakyReLU(alpha=.2))(i)\n",
        "  x = Dense(256,activation=LeakyReLU(alpha=.2))(x)\n",
        "  x = Dense(1,activation=\"sigmoid\")(x)\n",
        "  model = Model(i,x)\n",
        "  return model"
      ],
      "execution_count": 28,
      "outputs": []
    },
    {
      "cell_type": "code",
      "metadata": {
        "colab": {
          "base_uri": "https://localhost:8080/"
        },
        "id": "VKeGgqO6WQXI",
        "outputId": "b0927009-84e3-488c-a850-bb71cd6852e1"
      },
      "source": [
        "D"
      ],
      "execution_count": 29,
      "outputs": [
        {
          "output_type": "execute_result",
          "data": {
            "text/plain": [
              "784"
            ]
          },
          "metadata": {
            "tags": []
          },
          "execution_count": 29
        }
      ]
    },
    {
      "cell_type": "code",
      "metadata": {
        "id": "NJEsqDkEVq6T"
      },
      "source": [
        "discriminator = build_discriminator(D)"
      ],
      "execution_count": 30,
      "outputs": []
    },
    {
      "cell_type": "code",
      "metadata": {
        "id": "uVWlfi7iV0gq"
      },
      "source": [
        "discriminator.compile(\n",
        "    loss=\"binary_crossentropy\",\n",
        "    optimizer=Adam(.0002,.5),\n",
        "    metrics=[\"accuracy\"]\n",
        ")"
      ],
      "execution_count": 32,
      "outputs": []
    },
    {
      "cell_type": "code",
      "metadata": {
        "id": "4UyPAe06XNyi"
      },
      "source": [
        "generator = build_generator(latent_dim)"
      ],
      "execution_count": 68,
      "outputs": []
    },
    {
      "cell_type": "code",
      "metadata": {
        "id": "8VWTdG7fXS8f"
      },
      "source": [
        ""
      ],
      "execution_count": null,
      "outputs": []
    },
    {
      "cell_type": "markdown",
      "metadata": {
        "id": "EZF6RJwWX1hQ"
      },
      "source": [
        "Because we need to create a combined model so we create new input"
      ]
    },
    {
      "cell_type": "code",
      "metadata": {
        "id": "2KU7metWYHeX"
      },
      "source": [
        "z = Input(shape=(latent_dim))"
      ],
      "execution_count": 69,
      "outputs": []
    },
    {
      "cell_type": "code",
      "metadata": {
        "id": "286xWwOaYS6z"
      },
      "source": [
        "img = generator(z)"
      ],
      "execution_count": 70,
      "outputs": []
    },
    {
      "cell_type": "code",
      "metadata": {
        "id": "11_b7RuZYWDJ"
      },
      "source": [
        "discriminator.trainable =False"
      ],
      "execution_count": 71,
      "outputs": []
    },
    {
      "cell_type": "code",
      "metadata": {
        "id": "U8kmVWorYtUo"
      },
      "source": [
        "#Remeber the true ouput is fake, but we label them real"
      ],
      "execution_count": 72,
      "outputs": []
    },
    {
      "cell_type": "code",
      "metadata": {
        "id": "1zHyC7SvYb5c"
      },
      "source": [
        "fake_pred = discriminator(img)"
      ],
      "execution_count": 73,
      "outputs": []
    },
    {
      "cell_type": "code",
      "metadata": {
        "id": "PA5ZctklY2DB"
      },
      "source": [
        "combined_model = Model(z,fake_pred)"
      ],
      "execution_count": 74,
      "outputs": []
    },
    {
      "cell_type": "code",
      "metadata": {
        "colab": {
          "base_uri": "https://localhost:8080/"
        },
        "id": "W5kcOMJcY8T1",
        "outputId": "af3d8b69-d70f-4940-aca2-0e6dac2380b3"
      },
      "source": [
        "combined_model.summary()"
      ],
      "execution_count": 75,
      "outputs": [
        {
          "output_type": "stream",
          "text": [
            "Model: \"model_4\"\n",
            "_________________________________________________________________\n",
            "Layer (type)                 Output Shape              Param #   \n",
            "=================================================================\n",
            "input_7 (InputLayer)         [(None, 100)]             0         \n",
            "_________________________________________________________________\n",
            "model_3 (Functional)         (None, 784)               1493520   \n",
            "_________________________________________________________________\n",
            "model (Functional)           (None, 1)                 533505    \n",
            "=================================================================\n",
            "Total params: 2,027,025\n",
            "Trainable params: 1,489,936\n",
            "Non-trainable params: 537,089\n",
            "_________________________________________________________________\n"
          ],
          "name": "stdout"
        }
      ]
    },
    {
      "cell_type": "code",
      "metadata": {
        "id": "gY9KgANGZQ8M"
      },
      "source": [
        "combined_model.compile(loss=\"binary_crossentropy\",optimizer=Adam(0.0002,0.5))"
      ],
      "execution_count": 80,
      "outputs": []
    },
    {
      "cell_type": "code",
      "metadata": {
        "id": "IDnm4SkYaLic"
      },
      "source": [
        "batch_size = 32\n",
        "epochs = 30_000\n",
        "sample_period = 200 #every \"sample_period\" steps generate and save some data"
      ],
      "execution_count": 76,
      "outputs": []
    },
    {
      "cell_type": "code",
      "metadata": {
        "id": "KRznHCW2bM_3"
      },
      "source": [
        "ones = np.ones(batch_size)\n",
        "zeros = np.zeros(batch_size)"
      ],
      "execution_count": 48,
      "outputs": []
    },
    {
      "cell_type": "code",
      "metadata": {
        "id": "zFrsblJwbZJ2"
      },
      "source": [
        "d_losses = []\n",
        "g_losses = []"
      ],
      "execution_count": 49,
      "outputs": []
    },
    {
      "cell_type": "code",
      "metadata": {
        "id": "bVL4vjiQbg4-"
      },
      "source": [
        "#create a folder to store generated images\n",
        "if not os.path.exists(\"gan_images\"):\n",
        "  os.makedirs(\"gan_images\")"
      ],
      "execution_count": 50,
      "outputs": []
    },
    {
      "cell_type": "code",
      "metadata": {
        "id": "rSm8y19DbuGu"
      },
      "source": [
        "def sample_images(epoch):\n",
        "  rows,cols = 5,5\n",
        "  noise = np.random.randn(rows*cols,latent_dim)\n",
        "  imgs = generator.predict(noise)\n",
        "\n",
        "  #Rescale images 0-1\n",
        "  imgs = 0.5 *imgs +0.5\n",
        "  fig,axs  = plt.subplots(rows,cols)\n",
        "  idx= 0\n",
        "  for i in range(rows):\n",
        "    for j in range(cols):\n",
        "      axs[i,j].imshow(imgs[idx].reshape(H,W),cmap=\"gray\")\n",
        "      axs[i,j].axis(\"off\")\n",
        "      idx += 1\n",
        "  fig.savefig(\"gan_images/%d.png\" % epoch)\n",
        "  plt.close()\n",
        "  "
      ],
      "execution_count": 82,
      "outputs": []
    },
    {
      "cell_type": "code",
      "metadata": {
        "id": "MF_95zB4f99k"
      },
      "source": [
        ""
      ],
      "execution_count": 63,
      "outputs": []
    },
    {
      "cell_type": "code",
      "metadata": {
        "colab": {
          "base_uri": "https://localhost:8080/"
        },
        "id": "Y8flfwsPhKGH",
        "outputId": "680accb7-a230-4478-8ac8-a5d22d7b5d37"
      },
      "source": [
        "X_train[0]"
      ],
      "execution_count": 66,
      "outputs": [
        {
          "output_type": "execute_result",
          "data": {
            "text/plain": [
              "array([-1.        , -1.        , -1.        , -1.        , -1.        ,\n",
              "       -1.        , -1.        , -1.        , -1.        , -1.        ,\n",
              "       -1.        , -1.        , -1.        , -1.        , -1.        ,\n",
              "       -1.        , -1.        , -1.        , -1.        , -1.        ,\n",
              "       -1.        , -1.        , -1.        , -1.        , -1.        ,\n",
              "       -1.        , -1.        , -1.        , -1.        , -1.        ,\n",
              "       -1.        , -1.        , -1.        , -1.        , -1.        ,\n",
              "       -1.        , -1.        , -1.        , -1.        , -1.        ,\n",
              "       -1.        , -1.        , -1.        , -1.        , -1.        ,\n",
              "       -1.        , -1.        , -1.        , -1.        , -1.        ,\n",
              "       -1.        , -1.        , -1.        , -1.        , -1.        ,\n",
              "       -1.        , -1.        , -1.        , -1.        , -1.        ,\n",
              "       -1.        , -1.        , -1.        , -1.        , -1.        ,\n",
              "       -1.        , -1.        , -1.        , -1.        , -1.        ,\n",
              "       -1.        , -1.        , -1.        , -1.        , -1.        ,\n",
              "       -1.        , -1.        , -1.        , -1.        , -1.        ,\n",
              "       -1.        , -1.        , -1.        , -1.        , -1.        ,\n",
              "       -1.        , -1.        , -1.        , -1.        , -1.        ,\n",
              "       -1.        , -1.        , -1.        , -1.        , -1.        ,\n",
              "       -1.        , -1.        , -1.        , -1.        , -1.        ,\n",
              "       -1.        , -1.        , -1.        , -1.        , -1.        ,\n",
              "       -1.        , -1.        , -1.        , -1.        , -1.        ,\n",
              "       -1.        , -1.        , -1.        , -1.        , -1.        ,\n",
              "       -1.        , -1.        , -1.        , -1.        , -1.        ,\n",
              "       -1.        , -1.        , -1.        , -1.        , -1.        ,\n",
              "       -1.        , -1.        , -1.        , -1.        , -1.        ,\n",
              "       -1.        , -1.        , -1.        , -1.        , -1.        ,\n",
              "       -1.        , -1.        , -1.        , -1.        , -1.        ,\n",
              "       -1.        , -1.        , -1.        , -1.        , -1.        ,\n",
              "       -1.        , -1.        , -1.        , -1.        , -1.        ,\n",
              "       -1.        , -1.        , -0.97647059, -0.85882353, -0.85882353,\n",
              "       -0.85882353, -0.01176471,  0.06666667,  0.37254902, -0.79607843,\n",
              "        0.30196078,  1.        ,  0.9372549 , -0.00392157, -1.        ,\n",
              "       -1.        , -1.        , -1.        , -1.        , -1.        ,\n",
              "       -1.        , -1.        , -1.        , -1.        , -1.        ,\n",
              "       -1.        , -0.76470588, -0.71764706, -0.2627451 ,  0.20784314,\n",
              "        0.33333333,  0.98431373,  0.98431373,  0.98431373,  0.98431373,\n",
              "        0.98431373,  0.76470588,  0.34901961,  0.98431373,  0.89803922,\n",
              "        0.52941176, -0.49803922, -1.        , -1.        , -1.        ,\n",
              "       -1.        , -1.        , -1.        , -1.        , -1.        ,\n",
              "       -1.        , -1.        , -1.        , -0.61568627,  0.86666667,\n",
              "        0.98431373,  0.98431373,  0.98431373,  0.98431373,  0.98431373,\n",
              "        0.98431373,  0.98431373,  0.98431373,  0.96862745, -0.27058824,\n",
              "       -0.35686275, -0.35686275, -0.56078431, -0.69411765, -1.        ,\n",
              "       -1.        , -1.        , -1.        , -1.        , -1.        ,\n",
              "       -1.        , -1.        , -1.        , -1.        , -1.        ,\n",
              "       -1.        , -0.85882353,  0.71764706,  0.98431373,  0.98431373,\n",
              "        0.98431373,  0.98431373,  0.98431373,  0.55294118,  0.42745098,\n",
              "        0.9372549 ,  0.89019608, -1.        , -1.        , -1.        ,\n",
              "       -1.        , -1.        , -1.        , -1.        , -1.        ,\n",
              "       -1.        , -1.        , -1.        , -1.        , -1.        ,\n",
              "       -1.        , -1.        , -1.        , -1.        , -1.        ,\n",
              "       -0.37254902,  0.22352941, -0.16078431,  0.98431373,  0.98431373,\n",
              "        0.60784314, -0.91372549, -1.        , -0.6627451 ,  0.20784314,\n",
              "       -1.        , -1.        , -1.        , -1.        , -1.        ,\n",
              "       -1.        , -1.        , -1.        , -1.        , -1.        ,\n",
              "       -1.        , -1.        , -1.        , -1.        , -1.        ,\n",
              "       -1.        , -1.        , -1.        , -1.        , -0.89019608,\n",
              "       -0.99215686,  0.20784314,  0.98431373, -0.29411765, -1.        ,\n",
              "       -1.        , -1.        , -1.        , -1.        , -1.        ,\n",
              "       -1.        , -1.        , -1.        , -1.        , -1.        ,\n",
              "       -1.        , -1.        , -1.        , -1.        , -1.        ,\n",
              "       -1.        , -1.        , -1.        , -1.        , -1.        ,\n",
              "       -1.        , -1.        , -1.        , -1.        ,  0.09019608,\n",
              "        0.98431373,  0.49019608, -0.98431373, -1.        , -1.        ,\n",
              "       -1.        , -1.        , -1.        , -1.        , -1.        ,\n",
              "       -1.        , -1.        , -1.        , -1.        , -1.        ,\n",
              "       -1.        , -1.        , -1.        , -1.        , -1.        ,\n",
              "       -1.        , -1.        , -1.        , -1.        , -1.        ,\n",
              "       -1.        , -1.        , -0.91372549,  0.49019608,  0.98431373,\n",
              "       -0.45098039, -1.        , -1.        , -1.        , -1.        ,\n",
              "       -1.        , -1.        , -1.        , -1.        , -1.        ,\n",
              "       -1.        , -1.        , -1.        , -1.        , -1.        ,\n",
              "       -1.        , -1.        , -1.        , -1.        , -1.        ,\n",
              "       -1.        , -1.        , -1.        , -1.        , -1.        ,\n",
              "       -1.        , -0.7254902 ,  0.89019608,  0.76470588,  0.25490196,\n",
              "       -0.15294118, -0.99215686, -1.        , -1.        , -1.        ,\n",
              "       -1.        , -1.        , -1.        , -1.        , -1.        ,\n",
              "       -1.        , -1.        , -1.        , -1.        , -1.        ,\n",
              "       -1.        , -1.        , -1.        , -1.        , -1.        ,\n",
              "       -1.        , -1.        , -1.        , -1.        , -1.        ,\n",
              "       -0.36470588,  0.88235294,  0.98431373,  0.98431373, -0.06666667,\n",
              "       -0.80392157, -1.        , -1.        , -1.        , -1.        ,\n",
              "       -1.        , -1.        , -1.        , -1.        , -1.        ,\n",
              "       -1.        , -1.        , -1.        , -1.        , -1.        ,\n",
              "       -1.        , -1.        , -1.        , -1.        , -1.        ,\n",
              "       -1.        , -1.        , -1.        , -1.        , -0.64705882,\n",
              "        0.45882353,  0.98431373,  0.98431373,  0.17647059, -0.78823529,\n",
              "       -1.        , -1.        , -1.        , -1.        , -1.        ,\n",
              "       -1.        , -1.        , -1.        , -1.        , -1.        ,\n",
              "       -1.        , -1.        , -1.        , -1.        , -1.        ,\n",
              "       -1.        , -1.        , -1.        , -1.        , -1.        ,\n",
              "       -1.        , -1.        , -1.        , -0.8745098 , -0.27058824,\n",
              "        0.97647059,  0.98431373,  0.46666667, -1.        , -1.        ,\n",
              "       -1.        , -1.        , -1.        , -1.        , -1.        ,\n",
              "       -1.        , -1.        , -1.        , -1.        , -1.        ,\n",
              "       -1.        , -1.        , -1.        , -1.        , -1.        ,\n",
              "       -1.        , -1.        , -1.        , -1.        , -1.        ,\n",
              "       -1.        , -1.        , -1.        ,  0.95294118,  0.98431373,\n",
              "        0.95294118, -0.49803922, -1.        , -1.        , -1.        ,\n",
              "       -1.        , -1.        , -1.        , -1.        , -1.        ,\n",
              "       -1.        , -1.        , -1.        , -1.        , -1.        ,\n",
              "       -1.        , -1.        , -1.        , -1.        , -1.        ,\n",
              "       -1.        , -1.        , -1.        , -0.63921569,  0.01960784,\n",
              "        0.43529412,  0.98431373,  0.98431373,  0.62352941, -0.98431373,\n",
              "       -1.        , -1.        , -1.        , -1.        , -1.        ,\n",
              "       -1.        , -1.        , -1.        , -1.        , -1.        ,\n",
              "       -1.        , -1.        , -1.        , -1.        , -1.        ,\n",
              "       -1.        , -1.        , -1.        , -1.        , -0.69411765,\n",
              "        0.16078431,  0.79607843,  0.98431373,  0.98431373,  0.98431373,\n",
              "        0.96078431,  0.42745098, -1.        , -1.        , -1.        ,\n",
              "       -1.        , -1.        , -1.        , -1.        , -1.        ,\n",
              "       -1.        , -1.        , -1.        , -1.        , -1.        ,\n",
              "       -1.        , -1.        , -1.        , -1.        , -1.        ,\n",
              "       -0.81176471, -0.10588235,  0.73333333,  0.98431373,  0.98431373,\n",
              "        0.98431373,  0.98431373,  0.57647059, -0.38823529, -1.        ,\n",
              "       -1.        , -1.        , -1.        , -1.        , -1.        ,\n",
              "       -1.        , -1.        , -1.        , -1.        , -1.        ,\n",
              "       -1.        , -1.        , -1.        , -1.        , -1.        ,\n",
              "       -1.        , -0.81960784, -0.48235294,  0.67058824,  0.98431373,\n",
              "        0.98431373,  0.98431373,  0.98431373,  0.55294118, -0.36470588,\n",
              "       -0.98431373, -1.        , -1.        , -1.        , -1.        ,\n",
              "       -1.        , -1.        , -1.        , -1.        , -1.        ,\n",
              "       -1.        , -1.        , -1.        , -1.        , -1.        ,\n",
              "       -1.        , -1.        , -0.85882353,  0.34117647,  0.71764706,\n",
              "        0.98431373,  0.98431373,  0.98431373,  0.98431373,  0.52941176,\n",
              "       -0.37254902, -0.92941176, -1.        , -1.        , -1.        ,\n",
              "       -1.        , -1.        , -1.        , -1.        , -1.        ,\n",
              "       -1.        , -1.        , -1.        , -1.        , -1.        ,\n",
              "       -1.        , -1.        , -1.        , -0.56862745,  0.34901961,\n",
              "        0.77254902,  0.98431373,  0.98431373,  0.98431373,  0.98431373,\n",
              "        0.91372549,  0.04313725, -0.91372549, -1.        , -1.        ,\n",
              "       -1.        , -1.        , -1.        , -1.        , -1.        ,\n",
              "       -1.        , -1.        , -1.        , -1.        , -1.        ,\n",
              "       -1.        , -1.        , -1.        , -1.        , -1.        ,\n",
              "       -1.        ,  0.06666667,  0.98431373,  0.98431373,  0.98431373,\n",
              "        0.6627451 ,  0.05882353,  0.03529412, -0.8745098 , -1.        ,\n",
              "       -1.        , -1.        , -1.        , -1.        , -1.        ,\n",
              "       -1.        , -1.        , -1.        , -1.        , -1.        ,\n",
              "       -1.        , -1.        , -1.        , -1.        , -1.        ,\n",
              "       -1.        , -1.        , -1.        , -1.        , -1.        ,\n",
              "       -1.        , -1.        , -1.        , -1.        , -1.        ,\n",
              "       -1.        , -1.        , -1.        , -1.        , -1.        ,\n",
              "       -1.        , -1.        , -1.        , -1.        , -1.        ,\n",
              "       -1.        , -1.        , -1.        , -1.        , -1.        ,\n",
              "       -1.        , -1.        , -1.        , -1.        , -1.        ,\n",
              "       -1.        , -1.        , -1.        , -1.        , -1.        ,\n",
              "       -1.        , -1.        , -1.        , -1.        , -1.        ,\n",
              "       -1.        , -1.        , -1.        , -1.        , -1.        ,\n",
              "       -1.        , -1.        , -1.        , -1.        , -1.        ,\n",
              "       -1.        , -1.        , -1.        , -1.        , -1.        ,\n",
              "       -1.        , -1.        , -1.        , -1.        , -1.        ,\n",
              "       -1.        , -1.        , -1.        , -1.        , -1.        ,\n",
              "       -1.        , -1.        , -1.        , -1.        , -1.        ,\n",
              "       -1.        , -1.        , -1.        , -1.        , -1.        ,\n",
              "       -1.        , -1.        , -1.        , -1.        , -1.        ,\n",
              "       -1.        , -1.        , -1.        , -1.        ])"
            ]
          },
          "metadata": {
            "tags": []
          },
          "execution_count": 66
        }
      ]
    },
    {
      "cell_type": "code",
      "metadata": {
        "colab": {
          "base_uri": "https://localhost:8080/"
        },
        "id": "3yTCIWz7dfpN",
        "outputId": "6f77bdae-64f4-4a55-e845-34990c3e2f37"
      },
      "source": [
        "#Train Discrimator\n",
        "for epoch in range(epochs):\n",
        "\n",
        "  #select a random batch of images\n",
        "  idx = np.random.randint(0,X_train.shape[0],batch_size)\n",
        "  real_imgs = X_train[idx]\n",
        "\n",
        "  #Generate fake images\n",
        "  noise = np.random.randn(batch_size,latent_dim)\n",
        "  fake_imgs = generator.predict(noise)\n",
        "\n",
        "  #Train the discrimator\n",
        "  #both loss and accuracy are returned\n",
        "  d_loss_real,d_acc_real = discriminator.train_on_batch(real_imgs,ones)\n",
        "  d_loss_fake,d_acc_fake = discriminator.train_on_batch(fake_imgs,zeros)\n",
        "  d_loss = 0.5 * (d_loss_real+d_loss_fake)\n",
        "  d_acc = 0.5 *(d_acc_real+d_acc_fake)\n",
        "\n",
        "  #Train Generator\n",
        "  noise  = np.random.randn(batch_size,latent_dim)\n",
        "  g_loss = combined_model.train_on_batch(noise,ones)\n",
        "\n",
        "  noise = np.random.randn(batch_size, latent_dim)\n",
        "  g_loss = combined_model.train_on_batch(noise, ones)\n",
        "  d_losses.append(d_loss)\n",
        "  g_losses.append(g_loss)\n",
        "\n",
        "  if epoch % 100 ==0:\n",
        "    print(f\"epoch:{epoch+1}/{epochs}, \\\n",
        "    d_loss:{d_loss:.2f}, d_acc:{d_acc:.2f}, g-loss:{g_loss:.2f}\")\n",
        "  if epoch % sample_period ==0:\n",
        "    sample_images(epoch)\n"
      ],
      "execution_count": 83,
      "outputs": [
        {
          "output_type": "stream",
          "text": [
            "epoch:1/30000,     d_loss:0.31, d_acc:0.86, g-loss:0.68\n",
            "epoch:101/30000,     d_loss:0.04, d_acc:1.00, g-loss:4.26\n",
            "epoch:201/30000,     d_loss:0.43, d_acc:0.88, g-loss:1.97\n",
            "epoch:301/30000,     d_loss:0.73, d_acc:0.41, g-loss:0.60\n",
            "epoch:401/30000,     d_loss:0.72, d_acc:0.44, g-loss:0.63\n",
            "epoch:501/30000,     d_loss:0.68, d_acc:0.47, g-loss:0.66\n",
            "epoch:601/30000,     d_loss:0.67, d_acc:0.52, g-loss:0.65\n",
            "epoch:701/30000,     d_loss:0.68, d_acc:0.45, g-loss:0.69\n",
            "epoch:801/30000,     d_loss:0.65, d_acc:0.59, g-loss:0.67\n",
            "epoch:901/30000,     d_loss:0.65, d_acc:0.64, g-loss:0.76\n",
            "epoch:1001/30000,     d_loss:0.66, d_acc:0.61, g-loss:0.74\n",
            "epoch:1101/30000,     d_loss:0.66, d_acc:0.64, g-loss:0.71\n",
            "epoch:1201/30000,     d_loss:0.63, d_acc:0.61, g-loss:0.77\n",
            "epoch:1301/30000,     d_loss:0.62, d_acc:0.69, g-loss:0.74\n",
            "epoch:1401/30000,     d_loss:0.61, d_acc:0.70, g-loss:0.82\n",
            "epoch:1501/30000,     d_loss:0.66, d_acc:0.55, g-loss:0.78\n",
            "epoch:1601/30000,     d_loss:0.67, d_acc:0.52, g-loss:0.78\n",
            "epoch:1701/30000,     d_loss:0.66, d_acc:0.59, g-loss:0.84\n",
            "epoch:1801/30000,     d_loss:0.64, d_acc:0.66, g-loss:0.88\n",
            "epoch:1901/30000,     d_loss:0.66, d_acc:0.62, g-loss:0.81\n",
            "epoch:2001/30000,     d_loss:0.69, d_acc:0.64, g-loss:0.84\n",
            "epoch:2101/30000,     d_loss:0.64, d_acc:0.61, g-loss:0.80\n",
            "epoch:2201/30000,     d_loss:0.66, d_acc:0.59, g-loss:0.88\n",
            "epoch:2301/30000,     d_loss:0.63, d_acc:0.58, g-loss:0.79\n",
            "epoch:2401/30000,     d_loss:0.64, d_acc:0.62, g-loss:0.92\n",
            "epoch:2501/30000,     d_loss:0.63, d_acc:0.62, g-loss:0.88\n",
            "epoch:2601/30000,     d_loss:0.65, d_acc:0.64, g-loss:0.86\n",
            "epoch:2701/30000,     d_loss:0.65, d_acc:0.55, g-loss:0.85\n",
            "epoch:2801/30000,     d_loss:0.66, d_acc:0.53, g-loss:0.82\n",
            "epoch:2901/30000,     d_loss:0.65, d_acc:0.70, g-loss:0.88\n",
            "epoch:3001/30000,     d_loss:0.68, d_acc:0.59, g-loss:0.87\n",
            "epoch:3101/30000,     d_loss:0.68, d_acc:0.55, g-loss:0.80\n",
            "epoch:3201/30000,     d_loss:0.67, d_acc:0.58, g-loss:0.82\n",
            "epoch:3301/30000,     d_loss:0.67, d_acc:0.55, g-loss:0.86\n",
            "epoch:3401/30000,     d_loss:0.62, d_acc:0.77, g-loss:0.82\n",
            "epoch:3501/30000,     d_loss:0.66, d_acc:0.62, g-loss:0.81\n",
            "epoch:3601/30000,     d_loss:0.67, d_acc:0.59, g-loss:0.81\n",
            "epoch:3701/30000,     d_loss:0.65, d_acc:0.66, g-loss:0.80\n",
            "epoch:3801/30000,     d_loss:0.68, d_acc:0.64, g-loss:0.77\n",
            "epoch:3901/30000,     d_loss:0.67, d_acc:0.55, g-loss:0.80\n",
            "epoch:4001/30000,     d_loss:0.69, d_acc:0.56, g-loss:0.82\n",
            "epoch:4101/30000,     d_loss:0.66, d_acc:0.59, g-loss:0.84\n",
            "epoch:4201/30000,     d_loss:0.72, d_acc:0.42, g-loss:0.80\n",
            "epoch:4301/30000,     d_loss:0.66, d_acc:0.58, g-loss:0.78\n",
            "epoch:4401/30000,     d_loss:0.65, d_acc:0.70, g-loss:0.80\n",
            "epoch:4501/30000,     d_loss:0.69, d_acc:0.56, g-loss:0.85\n",
            "epoch:4601/30000,     d_loss:0.68, d_acc:0.56, g-loss:0.81\n",
            "epoch:4701/30000,     d_loss:0.67, d_acc:0.58, g-loss:0.81\n",
            "epoch:4801/30000,     d_loss:0.64, d_acc:0.64, g-loss:0.83\n",
            "epoch:4901/30000,     d_loss:0.71, d_acc:0.45, g-loss:0.76\n",
            "epoch:5001/30000,     d_loss:0.67, d_acc:0.56, g-loss:0.84\n",
            "epoch:5101/30000,     d_loss:0.70, d_acc:0.53, g-loss:0.79\n",
            "epoch:5201/30000,     d_loss:0.68, d_acc:0.64, g-loss:0.83\n",
            "epoch:5301/30000,     d_loss:0.71, d_acc:0.45, g-loss:0.76\n",
            "epoch:5401/30000,     d_loss:0.69, d_acc:0.56, g-loss:0.79\n",
            "epoch:5501/30000,     d_loss:0.71, d_acc:0.42, g-loss:0.78\n",
            "epoch:5601/30000,     d_loss:0.74, d_acc:0.44, g-loss:0.76\n",
            "epoch:5701/30000,     d_loss:0.70, d_acc:0.53, g-loss:0.78\n",
            "epoch:5801/30000,     d_loss:0.74, d_acc:0.47, g-loss:0.83\n",
            "epoch:5901/30000,     d_loss:0.75, d_acc:0.42, g-loss:0.86\n",
            "epoch:6001/30000,     d_loss:0.67, d_acc:0.61, g-loss:0.84\n",
            "epoch:6101/30000,     d_loss:0.67, d_acc:0.59, g-loss:0.82\n",
            "epoch:6201/30000,     d_loss:0.69, d_acc:0.58, g-loss:0.77\n",
            "epoch:6301/30000,     d_loss:0.72, d_acc:0.48, g-loss:0.79\n",
            "epoch:6401/30000,     d_loss:0.68, d_acc:0.52, g-loss:0.74\n",
            "epoch:6501/30000,     d_loss:0.66, d_acc:0.61, g-loss:0.80\n",
            "epoch:6601/30000,     d_loss:0.65, d_acc:0.64, g-loss:0.81\n",
            "epoch:6701/30000,     d_loss:0.70, d_acc:0.61, g-loss:0.80\n",
            "epoch:6801/30000,     d_loss:0.70, d_acc:0.53, g-loss:0.81\n",
            "epoch:6901/30000,     d_loss:0.73, d_acc:0.50, g-loss:0.79\n",
            "epoch:7001/30000,     d_loss:0.71, d_acc:0.58, g-loss:0.79\n",
            "epoch:7101/30000,     d_loss:0.65, d_acc:0.62, g-loss:0.77\n",
            "epoch:7201/30000,     d_loss:0.69, d_acc:0.61, g-loss:0.77\n",
            "epoch:7301/30000,     d_loss:0.70, d_acc:0.58, g-loss:0.78\n",
            "epoch:7401/30000,     d_loss:0.63, d_acc:0.64, g-loss:0.79\n",
            "epoch:7501/30000,     d_loss:0.74, d_acc:0.47, g-loss:0.75\n",
            "epoch:7601/30000,     d_loss:0.70, d_acc:0.53, g-loss:0.77\n",
            "epoch:7701/30000,     d_loss:0.66, d_acc:0.56, g-loss:0.83\n",
            "epoch:7801/30000,     d_loss:0.67, d_acc:0.59, g-loss:0.82\n",
            "epoch:7901/30000,     d_loss:0.70, d_acc:0.48, g-loss:0.80\n",
            "epoch:8001/30000,     d_loss:0.71, d_acc:0.47, g-loss:0.79\n",
            "epoch:8101/30000,     d_loss:0.68, d_acc:0.58, g-loss:0.81\n",
            "epoch:8201/30000,     d_loss:0.71, d_acc:0.52, g-loss:0.82\n",
            "epoch:8301/30000,     d_loss:0.67, d_acc:0.62, g-loss:0.84\n",
            "epoch:8401/30000,     d_loss:0.70, d_acc:0.55, g-loss:0.77\n",
            "epoch:8501/30000,     d_loss:0.63, d_acc:0.72, g-loss:0.82\n",
            "epoch:8601/30000,     d_loss:0.72, d_acc:0.55, g-loss:0.80\n",
            "epoch:8701/30000,     d_loss:0.64, d_acc:0.64, g-loss:0.80\n",
            "epoch:8801/30000,     d_loss:0.65, d_acc:0.64, g-loss:0.81\n",
            "epoch:8901/30000,     d_loss:0.65, d_acc:0.64, g-loss:0.78\n",
            "epoch:9001/30000,     d_loss:0.68, d_acc:0.53, g-loss:0.87\n",
            "epoch:9101/30000,     d_loss:0.69, d_acc:0.58, g-loss:0.77\n",
            "epoch:9201/30000,     d_loss:0.71, d_acc:0.45, g-loss:0.77\n",
            "epoch:9301/30000,     d_loss:0.66, d_acc:0.56, g-loss:0.78\n",
            "epoch:9401/30000,     d_loss:0.65, d_acc:0.61, g-loss:0.86\n",
            "epoch:9501/30000,     d_loss:0.66, d_acc:0.64, g-loss:0.84\n",
            "epoch:9601/30000,     d_loss:0.75, d_acc:0.50, g-loss:0.78\n",
            "epoch:9701/30000,     d_loss:0.67, d_acc:0.55, g-loss:0.81\n",
            "epoch:9801/30000,     d_loss:0.69, d_acc:0.55, g-loss:0.76\n",
            "epoch:9901/30000,     d_loss:0.67, d_acc:0.61, g-loss:0.78\n",
            "epoch:10001/30000,     d_loss:0.70, d_acc:0.48, g-loss:0.86\n",
            "epoch:10101/30000,     d_loss:0.69, d_acc:0.58, g-loss:0.75\n",
            "epoch:10201/30000,     d_loss:0.67, d_acc:0.59, g-loss:0.77\n",
            "epoch:10301/30000,     d_loss:0.71, d_acc:0.48, g-loss:0.83\n",
            "epoch:10401/30000,     d_loss:0.70, d_acc:0.53, g-loss:0.84\n",
            "epoch:10501/30000,     d_loss:0.68, d_acc:0.59, g-loss:0.76\n",
            "epoch:10601/30000,     d_loss:0.62, d_acc:0.77, g-loss:0.78\n",
            "epoch:10701/30000,     d_loss:0.68, d_acc:0.53, g-loss:0.86\n",
            "epoch:10801/30000,     d_loss:0.69, d_acc:0.52, g-loss:0.77\n",
            "epoch:10901/30000,     d_loss:0.66, d_acc:0.59, g-loss:0.81\n",
            "epoch:11001/30000,     d_loss:0.69, d_acc:0.61, g-loss:0.80\n",
            "epoch:11101/30000,     d_loss:0.69, d_acc:0.50, g-loss:0.85\n",
            "epoch:11201/30000,     d_loss:0.67, d_acc:0.50, g-loss:0.81\n",
            "epoch:11301/30000,     d_loss:0.66, d_acc:0.62, g-loss:0.80\n",
            "epoch:11401/30000,     d_loss:0.66, d_acc:0.61, g-loss:0.80\n",
            "epoch:11501/30000,     d_loss:0.67, d_acc:0.64, g-loss:0.82\n",
            "epoch:11601/30000,     d_loss:0.66, d_acc:0.59, g-loss:0.87\n",
            "epoch:11701/30000,     d_loss:0.67, d_acc:0.61, g-loss:0.84\n",
            "epoch:11801/30000,     d_loss:0.70, d_acc:0.52, g-loss:0.82\n",
            "epoch:11901/30000,     d_loss:0.68, d_acc:0.62, g-loss:0.82\n",
            "epoch:12001/30000,     d_loss:0.65, d_acc:0.64, g-loss:0.79\n",
            "epoch:12101/30000,     d_loss:0.69, d_acc:0.58, g-loss:0.81\n",
            "epoch:12201/30000,     d_loss:0.68, d_acc:0.58, g-loss:0.84\n",
            "epoch:12301/30000,     d_loss:0.68, d_acc:0.56, g-loss:0.77\n",
            "epoch:12401/30000,     d_loss:0.70, d_acc:0.45, g-loss:0.83\n",
            "epoch:12501/30000,     d_loss:0.70, d_acc:0.52, g-loss:0.81\n",
            "epoch:12601/30000,     d_loss:0.65, d_acc:0.62, g-loss:0.81\n",
            "epoch:12701/30000,     d_loss:0.72, d_acc:0.50, g-loss:0.85\n",
            "epoch:12801/30000,     d_loss:0.66, d_acc:0.67, g-loss:0.79\n",
            "epoch:12901/30000,     d_loss:0.67, d_acc:0.61, g-loss:0.79\n",
            "epoch:13001/30000,     d_loss:0.67, d_acc:0.58, g-loss:0.88\n",
            "epoch:13101/30000,     d_loss:0.69, d_acc:0.52, g-loss:0.82\n",
            "epoch:13201/30000,     d_loss:0.70, d_acc:0.56, g-loss:0.84\n",
            "epoch:13301/30000,     d_loss:0.69, d_acc:0.56, g-loss:0.81\n",
            "epoch:13401/30000,     d_loss:0.69, d_acc:0.52, g-loss:0.87\n",
            "epoch:13501/30000,     d_loss:0.68, d_acc:0.53, g-loss:0.82\n",
            "epoch:13601/30000,     d_loss:0.66, d_acc:0.61, g-loss:0.80\n",
            "epoch:13701/30000,     d_loss:0.66, d_acc:0.59, g-loss:0.81\n",
            "epoch:13801/30000,     d_loss:0.69, d_acc:0.59, g-loss:0.82\n",
            "epoch:13901/30000,     d_loss:0.71, d_acc:0.53, g-loss:0.80\n",
            "epoch:14001/30000,     d_loss:0.70, d_acc:0.48, g-loss:0.84\n",
            "epoch:14101/30000,     d_loss:0.65, d_acc:0.66, g-loss:0.83\n",
            "epoch:14201/30000,     d_loss:0.69, d_acc:0.52, g-loss:0.82\n",
            "epoch:14301/30000,     d_loss:0.68, d_acc:0.50, g-loss:0.79\n",
            "epoch:14401/30000,     d_loss:0.66, d_acc:0.64, g-loss:0.83\n",
            "epoch:14501/30000,     d_loss:0.67, d_acc:0.55, g-loss:0.85\n",
            "epoch:14601/30000,     d_loss:0.67, d_acc:0.59, g-loss:0.77\n",
            "epoch:14701/30000,     d_loss:0.65, d_acc:0.66, g-loss:0.82\n",
            "epoch:14801/30000,     d_loss:0.68, d_acc:0.58, g-loss:0.83\n",
            "epoch:14901/30000,     d_loss:0.65, d_acc:0.70, g-loss:0.82\n",
            "epoch:15001/30000,     d_loss:0.69, d_acc:0.55, g-loss:0.85\n",
            "epoch:15101/30000,     d_loss:0.67, d_acc:0.59, g-loss:0.82\n",
            "epoch:15201/30000,     d_loss:0.63, d_acc:0.66, g-loss:0.84\n",
            "epoch:15301/30000,     d_loss:0.65, d_acc:0.66, g-loss:0.81\n",
            "epoch:15401/30000,     d_loss:0.69, d_acc:0.58, g-loss:0.80\n",
            "epoch:15501/30000,     d_loss:0.76, d_acc:0.36, g-loss:0.80\n",
            "epoch:15601/30000,     d_loss:0.64, d_acc:0.69, g-loss:0.83\n",
            "epoch:15701/30000,     d_loss:0.64, d_acc:0.66, g-loss:0.83\n",
            "epoch:15801/30000,     d_loss:0.70, d_acc:0.48, g-loss:0.79\n",
            "epoch:15901/30000,     d_loss:0.69, d_acc:0.48, g-loss:0.82\n",
            "epoch:16001/30000,     d_loss:0.70, d_acc:0.59, g-loss:0.83\n",
            "epoch:16101/30000,     d_loss:0.66, d_acc:0.62, g-loss:0.79\n",
            "epoch:16201/30000,     d_loss:0.64, d_acc:0.69, g-loss:0.85\n",
            "epoch:16301/30000,     d_loss:0.65, d_acc:0.64, g-loss:0.84\n",
            "epoch:16401/30000,     d_loss:0.65, d_acc:0.67, g-loss:0.87\n",
            "epoch:16501/30000,     d_loss:0.69, d_acc:0.56, g-loss:0.86\n",
            "epoch:16601/30000,     d_loss:0.66, d_acc:0.66, g-loss:0.84\n",
            "epoch:16701/30000,     d_loss:0.68, d_acc:0.52, g-loss:0.80\n",
            "epoch:16801/30000,     d_loss:0.69, d_acc:0.56, g-loss:0.83\n",
            "epoch:16901/30000,     d_loss:0.69, d_acc:0.52, g-loss:0.82\n",
            "epoch:17001/30000,     d_loss:0.70, d_acc:0.50, g-loss:0.86\n",
            "epoch:17101/30000,     d_loss:0.70, d_acc:0.45, g-loss:0.73\n",
            "epoch:17201/30000,     d_loss:0.69, d_acc:0.52, g-loss:0.86\n",
            "epoch:17301/30000,     d_loss:0.69, d_acc:0.55, g-loss:0.80\n",
            "epoch:17401/30000,     d_loss:0.61, d_acc:0.67, g-loss:0.84\n",
            "epoch:17501/30000,     d_loss:0.64, d_acc:0.66, g-loss:0.83\n",
            "epoch:17601/30000,     d_loss:0.70, d_acc:0.58, g-loss:0.86\n",
            "epoch:17701/30000,     d_loss:0.70, d_acc:0.55, g-loss:0.81\n",
            "epoch:17801/30000,     d_loss:0.64, d_acc:0.70, g-loss:0.80\n",
            "epoch:17901/30000,     d_loss:0.66, d_acc:0.59, g-loss:0.83\n",
            "epoch:18001/30000,     d_loss:0.69, d_acc:0.55, g-loss:0.82\n",
            "epoch:18101/30000,     d_loss:0.64, d_acc:0.64, g-loss:0.83\n",
            "epoch:18201/30000,     d_loss:0.62, d_acc:0.75, g-loss:0.86\n",
            "epoch:18301/30000,     d_loss:0.67, d_acc:0.55, g-loss:0.78\n",
            "epoch:18401/30000,     d_loss:0.65, d_acc:0.67, g-loss:0.82\n",
            "epoch:18501/30000,     d_loss:0.66, d_acc:0.72, g-loss:0.89\n",
            "epoch:18601/30000,     d_loss:0.65, d_acc:0.64, g-loss:0.82\n",
            "epoch:18701/30000,     d_loss:0.66, d_acc:0.70, g-loss:0.85\n",
            "epoch:18801/30000,     d_loss:0.65, d_acc:0.58, g-loss:0.88\n",
            "epoch:18901/30000,     d_loss:0.70, d_acc:0.52, g-loss:0.76\n",
            "epoch:19001/30000,     d_loss:0.68, d_acc:0.56, g-loss:0.83\n",
            "epoch:19101/30000,     d_loss:0.65, d_acc:0.69, g-loss:0.87\n",
            "epoch:19201/30000,     d_loss:0.71, d_acc:0.50, g-loss:0.79\n",
            "epoch:19301/30000,     d_loss:0.68, d_acc:0.56, g-loss:0.86\n",
            "epoch:19401/30000,     d_loss:0.65, d_acc:0.59, g-loss:0.80\n",
            "epoch:19501/30000,     d_loss:0.69, d_acc:0.47, g-loss:0.85\n",
            "epoch:19601/30000,     d_loss:0.71, d_acc:0.55, g-loss:0.83\n",
            "epoch:19701/30000,     d_loss:0.66, d_acc:0.62, g-loss:0.85\n",
            "epoch:19801/30000,     d_loss:0.72, d_acc:0.52, g-loss:0.78\n",
            "epoch:19901/30000,     d_loss:0.68, d_acc:0.61, g-loss:0.88\n",
            "epoch:20001/30000,     d_loss:0.68, d_acc:0.61, g-loss:0.81\n",
            "epoch:20101/30000,     d_loss:0.66, d_acc:0.64, g-loss:0.89\n",
            "epoch:20201/30000,     d_loss:0.63, d_acc:0.66, g-loss:0.80\n",
            "epoch:20301/30000,     d_loss:0.67, d_acc:0.66, g-loss:0.85\n",
            "epoch:20401/30000,     d_loss:0.65, d_acc:0.56, g-loss:0.79\n",
            "epoch:20501/30000,     d_loss:0.67, d_acc:0.64, g-loss:0.82\n",
            "epoch:20601/30000,     d_loss:0.67, d_acc:0.50, g-loss:0.79\n",
            "epoch:20701/30000,     d_loss:0.68, d_acc:0.56, g-loss:0.86\n",
            "epoch:20801/30000,     d_loss:0.68, d_acc:0.58, g-loss:0.73\n",
            "epoch:20901/30000,     d_loss:0.64, d_acc:0.58, g-loss:0.85\n",
            "epoch:21001/30000,     d_loss:0.65, d_acc:0.58, g-loss:0.80\n",
            "epoch:21101/30000,     d_loss:0.66, d_acc:0.58, g-loss:0.83\n",
            "epoch:21201/30000,     d_loss:0.63, d_acc:0.64, g-loss:0.83\n",
            "epoch:21301/30000,     d_loss:0.63, d_acc:0.67, g-loss:0.85\n",
            "epoch:21401/30000,     d_loss:0.70, d_acc:0.55, g-loss:0.79\n",
            "epoch:21501/30000,     d_loss:0.70, d_acc:0.50, g-loss:0.82\n",
            "epoch:21601/30000,     d_loss:0.71, d_acc:0.53, g-loss:0.81\n",
            "epoch:21701/30000,     d_loss:0.66, d_acc:0.64, g-loss:0.78\n",
            "epoch:21801/30000,     d_loss:0.67, d_acc:0.58, g-loss:0.86\n",
            "epoch:21901/30000,     d_loss:0.74, d_acc:0.41, g-loss:0.85\n",
            "epoch:22001/30000,     d_loss:0.67, d_acc:0.59, g-loss:0.86\n",
            "epoch:22101/30000,     d_loss:0.67, d_acc:0.56, g-loss:0.74\n",
            "epoch:22201/30000,     d_loss:0.67, d_acc:0.55, g-loss:0.83\n",
            "epoch:22301/30000,     d_loss:0.66, d_acc:0.64, g-loss:0.78\n",
            "epoch:22401/30000,     d_loss:0.72, d_acc:0.45, g-loss:0.75\n",
            "epoch:22501/30000,     d_loss:0.62, d_acc:0.67, g-loss:0.84\n",
            "epoch:22601/30000,     d_loss:0.63, d_acc:0.62, g-loss:0.90\n",
            "epoch:22701/30000,     d_loss:0.65, d_acc:0.61, g-loss:0.84\n",
            "epoch:22801/30000,     d_loss:0.64, d_acc:0.62, g-loss:0.87\n",
            "epoch:22901/30000,     d_loss:0.69, d_acc:0.48, g-loss:0.89\n",
            "epoch:23001/30000,     d_loss:0.61, d_acc:0.66, g-loss:0.77\n",
            "epoch:23101/30000,     d_loss:0.68, d_acc:0.66, g-loss:0.81\n",
            "epoch:23201/30000,     d_loss:0.65, d_acc:0.61, g-loss:0.91\n",
            "epoch:23301/30000,     d_loss:0.66, d_acc:0.58, g-loss:0.84\n",
            "epoch:23401/30000,     d_loss:0.70, d_acc:0.55, g-loss:0.80\n",
            "epoch:23501/30000,     d_loss:0.64, d_acc:0.62, g-loss:0.82\n",
            "epoch:23601/30000,     d_loss:0.65, d_acc:0.62, g-loss:0.86\n",
            "epoch:23701/30000,     d_loss:0.67, d_acc:0.53, g-loss:0.85\n",
            "epoch:23801/30000,     d_loss:0.67, d_acc:0.62, g-loss:0.82\n",
            "epoch:23901/30000,     d_loss:0.63, d_acc:0.66, g-loss:0.85\n",
            "epoch:24001/30000,     d_loss:0.68, d_acc:0.64, g-loss:0.90\n",
            "epoch:24101/30000,     d_loss:0.70, d_acc:0.50, g-loss:0.80\n",
            "epoch:24201/30000,     d_loss:0.69, d_acc:0.50, g-loss:0.87\n",
            "epoch:24301/30000,     d_loss:0.67, d_acc:0.67, g-loss:0.82\n",
            "epoch:24401/30000,     d_loss:0.63, d_acc:0.72, g-loss:0.83\n",
            "epoch:24501/30000,     d_loss:0.61, d_acc:0.64, g-loss:0.84\n",
            "epoch:24601/30000,     d_loss:0.66, d_acc:0.61, g-loss:0.84\n",
            "epoch:24701/30000,     d_loss:0.71, d_acc:0.52, g-loss:0.83\n",
            "epoch:24801/30000,     d_loss:0.72, d_acc:0.48, g-loss:0.84\n",
            "epoch:24901/30000,     d_loss:0.69, d_acc:0.55, g-loss:0.82\n",
            "epoch:25001/30000,     d_loss:0.65, d_acc:0.62, g-loss:0.81\n",
            "epoch:25101/30000,     d_loss:0.66, d_acc:0.61, g-loss:0.93\n",
            "epoch:25201/30000,     d_loss:0.68, d_acc:0.59, g-loss:0.84\n",
            "epoch:25301/30000,     d_loss:0.69, d_acc:0.56, g-loss:0.91\n",
            "epoch:25401/30000,     d_loss:0.67, d_acc:0.59, g-loss:0.76\n",
            "epoch:25501/30000,     d_loss:0.66, d_acc:0.58, g-loss:0.86\n",
            "epoch:25601/30000,     d_loss:0.60, d_acc:0.70, g-loss:0.87\n",
            "epoch:25701/30000,     d_loss:0.70, d_acc:0.48, g-loss:0.82\n",
            "epoch:25801/30000,     d_loss:0.68, d_acc:0.55, g-loss:0.72\n",
            "epoch:25901/30000,     d_loss:0.67, d_acc:0.59, g-loss:0.79\n",
            "epoch:26001/30000,     d_loss:0.67, d_acc:0.52, g-loss:0.86\n",
            "epoch:26101/30000,     d_loss:0.67, d_acc:0.52, g-loss:0.83\n",
            "epoch:26201/30000,     d_loss:0.66, d_acc:0.59, g-loss:0.87\n",
            "epoch:26301/30000,     d_loss:0.68, d_acc:0.52, g-loss:0.80\n",
            "epoch:26401/30000,     d_loss:0.69, d_acc:0.56, g-loss:0.85\n",
            "epoch:26501/30000,     d_loss:0.69, d_acc:0.55, g-loss:0.83\n",
            "epoch:26601/30000,     d_loss:0.68, d_acc:0.53, g-loss:0.79\n",
            "epoch:26701/30000,     d_loss:0.69, d_acc:0.53, g-loss:0.80\n",
            "epoch:26801/30000,     d_loss:0.64, d_acc:0.67, g-loss:0.90\n",
            "epoch:26901/30000,     d_loss:0.66, d_acc:0.59, g-loss:0.88\n",
            "epoch:27001/30000,     d_loss:0.64, d_acc:0.64, g-loss:0.80\n",
            "epoch:27101/30000,     d_loss:0.65, d_acc:0.62, g-loss:0.84\n",
            "epoch:27201/30000,     d_loss:0.70, d_acc:0.52, g-loss:0.85\n",
            "epoch:27301/30000,     d_loss:0.64, d_acc:0.62, g-loss:0.87\n",
            "epoch:27401/30000,     d_loss:0.75, d_acc:0.39, g-loss:0.86\n",
            "epoch:27501/30000,     d_loss:0.70, d_acc:0.50, g-loss:0.79\n",
            "epoch:27601/30000,     d_loss:0.66, d_acc:0.62, g-loss:0.81\n",
            "epoch:27701/30000,     d_loss:0.70, d_acc:0.58, g-loss:0.89\n",
            "epoch:27801/30000,     d_loss:0.67, d_acc:0.58, g-loss:0.73\n",
            "epoch:27901/30000,     d_loss:0.63, d_acc:0.62, g-loss:0.81\n",
            "epoch:28001/30000,     d_loss:0.68, d_acc:0.53, g-loss:0.85\n",
            "epoch:28101/30000,     d_loss:0.67, d_acc:0.53, g-loss:0.77\n",
            "epoch:28201/30000,     d_loss:0.66, d_acc:0.64, g-loss:0.87\n",
            "epoch:28301/30000,     d_loss:0.71, d_acc:0.55, g-loss:0.83\n",
            "epoch:28401/30000,     d_loss:0.69, d_acc:0.56, g-loss:0.81\n",
            "epoch:28501/30000,     d_loss:0.70, d_acc:0.52, g-loss:0.82\n",
            "epoch:28601/30000,     d_loss:0.64, d_acc:0.62, g-loss:0.88\n",
            "epoch:28701/30000,     d_loss:0.66, d_acc:0.62, g-loss:0.80\n",
            "epoch:28801/30000,     d_loss:0.69, d_acc:0.56, g-loss:0.80\n",
            "epoch:28901/30000,     d_loss:0.64, d_acc:0.59, g-loss:0.86\n",
            "epoch:29001/30000,     d_loss:0.67, d_acc:0.62, g-loss:0.77\n",
            "epoch:29101/30000,     d_loss:0.71, d_acc:0.52, g-loss:0.81\n",
            "epoch:29201/30000,     d_loss:0.72, d_acc:0.48, g-loss:0.90\n",
            "epoch:29301/30000,     d_loss:0.65, d_acc:0.61, g-loss:0.79\n",
            "epoch:29401/30000,     d_loss:0.67, d_acc:0.58, g-loss:0.76\n",
            "epoch:29501/30000,     d_loss:0.66, d_acc:0.59, g-loss:0.84\n",
            "epoch:29601/30000,     d_loss:0.63, d_acc:0.70, g-loss:0.89\n",
            "epoch:29701/30000,     d_loss:0.65, d_acc:0.69, g-loss:0.86\n",
            "epoch:29801/30000,     d_loss:0.67, d_acc:0.58, g-loss:0.85\n",
            "epoch:29901/30000,     d_loss:0.65, d_acc:0.67, g-loss:0.87\n"
          ],
          "name": "stdout"
        }
      ]
    },
    {
      "cell_type": "code",
      "metadata": {
        "colab": {
          "base_uri": "https://localhost:8080/",
          "height": 282
        },
        "id": "X2lBGuadd2V-",
        "outputId": "5c235204-f8d5-4a06-ee8d-6f1ffa14e9a8"
      },
      "source": [
        "plt.plot(g_losses,label=\"g_losses\")\n",
        "plt.plot(d_losses,label=\"d_losses\")\n",
        "plt.legend()"
      ],
      "execution_count": 84,
      "outputs": [
        {
          "output_type": "execute_result",
          "data": {
            "text/plain": [
              "<matplotlib.legend.Legend at 0x7f7412b03f50>"
            ]
          },
          "metadata": {
            "tags": []
          },
          "execution_count": 84
        },
        {
          "output_type": "display_data",
          "data": {
            "image/png": "[encoded data removed]",
            "text/plain": [
              "<Figure size 432x288 with 1 Axes>"
            ]
          },
          "metadata": {
            "tags": [],
            "needs_background": "light"
          }
        }
      ]
    },
    {
      "cell_type": "code",
      "metadata": {
        "id": "W6u_iwEI8DMm"
      },
      "source": [
        ""
      ],
      "execution_count": null,
      "outputs": []
    }
  ]
}